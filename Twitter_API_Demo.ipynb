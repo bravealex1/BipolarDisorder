{
  "nbformat": 4,
  "nbformat_minor": 0,
  "metadata": {
    "colab": {
      "provenance": [],
      "collapsed_sections": [],
      "authorship_tag": "ABX9TyPkmFzq8OWjPQF4TSTpfFQ9",
      "include_colab_link": true
    },
    "kernelspec": {
      "name": "python3",
      "display_name": "Python 3"
    },
    "language_info": {
      "name": "python"
    }
  },
  "cells": [
    {
      "cell_type": "markdown",
      "metadata": {
        "id": "view-in-github",
        "colab_type": "text"
      },
      "source": [
        "<a href=\"https://colab.research.google.com/github/bravealex1/BipolarDisorder/blob/main/Twitter_API_Demo.ipynb\" target=\"_parent\"><img src=\"https://colab.research.google.com/assets/colab-badge.svg\" alt=\"Open In Colab\"/></a>"
      ]
    },
    {
      "cell_type": "code",
      "execution_count": 1,
      "metadata": {
        "colab": {
          "base_uri": "https://localhost:8080/"
        },
        "id": "3sA0izSftejA",
        "outputId": "383b15ad-d3b7-450e-96ce-ee5ffc0929f7"
      },
      "outputs": [
        {
          "output_type": "stream",
          "name": "stdout",
          "text": [
            "Looking in indexes: https://pypi.org/simple, https://us-python.pkg.dev/colab-wheels/public/simple/\n",
            "Requirement already satisfied: tweepy in /usr/local/lib/python3.7/dist-packages (3.10.0)\n",
            "Requirement already satisfied: requests-oauthlib>=0.7.0 in /usr/local/lib/python3.7/dist-packages (from tweepy) (1.3.1)\n",
            "Requirement already satisfied: requests[socks]>=2.11.1 in /usr/local/lib/python3.7/dist-packages (from tweepy) (2.23.0)\n",
            "Requirement already satisfied: six>=1.10.0 in /usr/local/lib/python3.7/dist-packages (from tweepy) (1.15.0)\n",
            "Requirement already satisfied: oauthlib>=3.0.0 in /usr/local/lib/python3.7/dist-packages (from requests-oauthlib>=0.7.0->tweepy) (3.2.2)\n",
            "Requirement already satisfied: certifi>=2017.4.17 in /usr/local/lib/python3.7/dist-packages (from requests[socks]>=2.11.1->tweepy) (2022.9.24)\n",
            "Requirement already satisfied: urllib3!=1.25.0,!=1.25.1,<1.26,>=1.21.1 in /usr/local/lib/python3.7/dist-packages (from requests[socks]>=2.11.1->tweepy) (1.24.3)\n",
            "Requirement already satisfied: chardet<4,>=3.0.2 in /usr/local/lib/python3.7/dist-packages (from requests[socks]>=2.11.1->tweepy) (3.0.4)\n",
            "Requirement already satisfied: idna<3,>=2.5 in /usr/local/lib/python3.7/dist-packages (from requests[socks]>=2.11.1->tweepy) (2.10)\n",
            "Requirement already satisfied: PySocks!=1.5.7,>=1.5.6 in /usr/local/lib/python3.7/dist-packages (from requests[socks]>=2.11.1->tweepy) (1.7.1)\n"
          ]
        }
      ],
      "source": [
        "!pip install tweepy"
      ]
    },
    {
      "cell_type": "code",
      "source": [
        "\n",
        "api_key = 'kBp22yjyjyc72bAH7iH9EzPAI'\n",
        "api_key_secret = 'BGT5BXLW4jhQNjo6NLH4WEWfyn09MjMSldgnxpltemkylrtU3q'\n",
        "\n",
        "access_token = '1554201718673514498-j8ioSvGxxqjUsy60owcFsQwE7dckHk'\n",
        "access_token_secret = '9RI5AGd7bbUrFgNKMRdtWXRJ2ZIe6SL3GfxcORMLem0ge'"
      ],
      "metadata": {
        "id": "TW0nSj5JtrYg"
      },
      "execution_count": 3,
      "outputs": []
    },
    {
      "cell_type": "code",
      "source": [
        "import tweepy as tp\n",
        "import configparser\n",
        "import pandas as pd\n",
        "\n",
        "\n",
        "#read configs\n",
        "config = configparser.ConfigParser()\n",
        "config.read('config.ini')\n",
        "\n",
        "#authentication\n",
        "auth = tp.OAuthHandler(api_key, api_key_secret)\n",
        "auth.set_access_token(access_token, access_token_secret)\n",
        "\n",
        "api = tp.API(auth)"
      ],
      "metadata": {
        "id": "9a5UcI20t3Vl"
      },
      "execution_count": 12,
      "outputs": []
    },
    {
      "cell_type": "code",
      "source": [
        "user = '@CalculatingMind'\n",
        "limit = 300\n",
        "\n",
        "tweets = tp.Cursor(api.user_timeline, screen_name=user, count=200, tweet_mode='extended').items(limit)\n",
        "\n",
        "\n",
        "data = []\n",
        "for tweet in tweets:\n",
        "    data.append([tweet.full_text])\n",
        "\n",
        "df = pd.DataFrame(data)\n",
        "\n",
        "print(df)"
      ],
      "metadata": {
        "colab": {
          "base_uri": "https://localhost:8080/"
        },
        "id": "muVI6r6numAF",
        "outputId": "8eb3ff51-fd90-4e08-ec44-bcd0f8678663"
      },
      "execution_count": 14,
      "outputs": [
        {
          "output_type": "stream",
          "name": "stdout",
          "text": [
            "                                                     0\n",
            "0    RT @mfktherapy: CW: Harassment \\n\\nI have hesi...\n",
            "1    RT @mfktherapy: Last tweet -- this was just sh...\n",
            "2    RT @DariusAGreen: Just did a quick glance over...\n",
            "3    Both Twitter &amp; Meta seem to be falling apa...\n",
            "4    RT @Haley_Biddanda: #OCD folks- are there any ...\n",
            "..                                                 ...\n",
            "295  RT @PsychinOut: Help us reach 5K followers? It...\n",
            "296  RT @DisabledInPsych: We’re excited for the sec...\n",
            "297  Why am I totally fixated on the psychiatry asp...\n",
            "298  RT @CheriLev: I WILL be accepting a grad stude...\n",
            "299  RT @ChaseTMAnderson: Just a reminder that we’r...\n",
            "\n",
            "[300 rows x 1 columns]\n"
          ]
        }
      ]
    },
    {
      "cell_type": "code",
      "source": [
        "df.to_csv('tweets.csv')"
      ],
      "metadata": {
        "id": "CcGiWaIZuw0b"
      },
      "execution_count": 15,
      "outputs": []
    }
  ]
}